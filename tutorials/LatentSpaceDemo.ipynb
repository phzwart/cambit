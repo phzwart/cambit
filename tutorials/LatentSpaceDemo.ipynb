{
 "cells": [
  {
   "cell_type": "code",
   "execution_count": 34,
   "id": "324428e9",
   "metadata": {},
   "outputs": [],
   "source": [
    "from latexp import app\n",
    "import numpy as np\n",
    "from sklearn.cluster import DBSCAN"
   ]
  },
  {
   "cell_type": "code",
   "execution_count": 35,
   "id": "18690067",
   "metadata": {},
   "outputs": [],
   "source": [
    "imgs = np.load(\"Demoshapes.npz\")['arr_0']\n",
    "labels = np.load(\"DemoLabels.npy\")\n",
    "latent_vecs = np.load(\"pacmacX.npy\")\n",
    "label_names = {\"Disc\":0, \"Triangle\": 1, \"Rectangle\":2, \"Annulus\":3}"
   ]
  },
  {
   "cell_type": "code",
   "execution_count": 36,
   "id": "7358c38c",
   "metadata": {},
   "outputs": [],
   "source": [
    "obj = DBSCAN(eps=1.70, min_samples=1, leaf_size=5)\n",
    "clusters = obj.fit_predict(latent_vecs)"
   ]
  },
  {
   "cell_type": "code",
   "execution_count": 37,
   "id": "23f0f2ef",
   "metadata": {},
   "outputs": [],
   "source": [
    "my_app = app.build_explorer(images = imgs, \n",
    "                         latent_vectors = latent_vecs, \n",
    "                         clusters = clusters, \n",
    "                         label_names = label_names,\n",
    "                         assigned_labels = labels)"
   ]
  },
  {
   "cell_type": "code",
   "execution_count": 38,
   "id": "b7daa805",
   "metadata": {},
   "outputs": [
    {
     "name": "stdout",
     "output_type": "stream",
     "text": [
      "Dash is running on http://127.0.0.1:8051/\n",
      "\n"
     ]
    },
    {
     "data": {
      "text/html": [
       "\n",
       "        <iframe\n",
       "            width=\"100%\"\n",
       "            height=\"650\"\n",
       "            src=\"http://127.0.0.1:8051/\"\n",
       "            frameborder=\"0\"\n",
       "            allowfullscreen\n",
       "            \n",
       "        ></iframe>\n",
       "        "
      ],
      "text/plain": [
       "<IPython.lib.display.IFrame at 0x7fa3f3c31d30>"
      ]
     },
     "metadata": {},
     "output_type": "display_data"
    }
   ],
   "source": [
    "my_app.run_server(mode=\"inline\", port=8051)"
   ]
  },
  {
   "cell_type": "code",
   "execution_count": null,
   "id": "0d9c3ee3",
   "metadata": {},
   "outputs": [],
   "source": []
  }
 ],
 "metadata": {
  "kernelspec": {
   "display_name": "dlsia-dev",
   "language": "python",
   "name": "dlsia-dev"
  },
  "language_info": {
   "codemirror_mode": {
    "name": "ipython",
    "version": 3
   },
   "file_extension": ".py",
   "mimetype": "text/x-python",
   "name": "python",
   "nbconvert_exporter": "python",
   "pygments_lexer": "ipython3",
   "version": "3.9.0"
  }
 },
 "nbformat": 4,
 "nbformat_minor": 5
}
